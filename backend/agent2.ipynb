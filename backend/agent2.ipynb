{
 "cells": [
  {
   "cell_type": "code",
   "execution_count": 1,
   "id": "1703bac4",
   "metadata": {},
   "outputs": [],
   "source": [
    "from src.agent.powerful import graph\n",
    "\n"
   ]
  },
  {
   "cell_type": "code",
   "execution_count": 2,
   "id": "edb19c86",
   "metadata": {},
   "outputs": [
    {
     "name": "stderr",
     "output_type": "stream",
     "text": [
      "2025/05/27 15:26:55 WARNING mlflow.tracing.processor.mlflow: Creating a trace within the default experiment with id '0'. It is strongly recommended to not use the default experiment to log traces due to ambiguous search results and probable performance issues over time due to directory table listing performance degradation with high volumes of directories within a specific path. To avoid performance and disambiguation issues, set the experiment for your environment using `mlflow.set_experiment()` API.\n",
      "WARNING:langchain_google_vertexai.functions_utils:Key 'additionalProperties' is not supported in schema, ignoring\n",
      "WARNING:langchain_google_vertexai.functions_utils:Key 'additionalProperties' is not supported in schema, ignoring\n",
      "WARNING:langchain_google_vertexai.functions_utils:Key 'additionalProperties' is not supported in schema, ignoring\n",
      "WARNING:langchain_google_vertexai.functions_utils:Key 'additionalProperties' is not supported in schema, ignoring\n"
     ]
    }
   ],
   "source": [
    "from langchain_core.messages import AIMessage, HumanMessage, SystemMessage\n",
    "input = {\n",
    "    \"messages\": [\n",
    "        HumanMessage(\"Analyze following news article and summarize it in a few sentences: 'The stock market saw a significant drop today as investors reacted to the latest economic data, which showed a slowdown in growth. Analysts are concerned about the potential for a recession, and many are advising caution in the coming months.'\"),\n",
    "    ]\n",
    "}\n",
    "\n",
    "output = graph.invoke(input)"
   ]
  },
  {
   "cell_type": "code",
   "execution_count": 11,
   "id": "504aa16a",
   "metadata": {},
   "outputs": [
    {
     "data": {
      "text/plain": [
       "[{'name': 'analyze_sentiment',\n",
       "  'args': {'text': 'The stock market saw a significant drop today as investors reacted to the latest economic data, which showed a slowdown in growth. Analysts are concerned about the potential for a recession, and many are advising caution in the coming months.'},\n",
       "  'id': 'cb163ad2-9a6f-4b26-a68b-d421a216fec5',\n",
       "  'type': 'tool_call'}]"
      ]
     },
     "execution_count": 11,
     "metadata": {},
     "output_type": "execute_result"
    }
   ],
   "source": [
    "output[\"messages\"][1].tool_calls"
   ]
  },
  {
   "cell_type": "code",
   "execution_count": null,
   "id": "a044ab83",
   "metadata": {},
   "outputs": [],
   "source": [
    "a = {}\n",
    "a."
   ]
  },
  {
   "cell_type": "code",
   "execution_count": 13,
   "id": "17a668e8",
   "metadata": {},
   "outputs": [
    {
     "data": {
      "text/plain": [
       "{'content': '{\"status\": \"success\", \"data\": {\"sentiment_score\": -0.128}}',\n",
       " 'additional_kwargs': {},\n",
       " 'response_metadata': {},\n",
       " 'type': 'tool',\n",
       " 'name': 'analyze_sentiment',\n",
       " 'id': '60c6cdba-8659-49a1-a0be-d0d19d386900',\n",
       " 'tool_call_id': 'cb163ad2-9a6f-4b26-a68b-d421a216fec5',\n",
       " 'artifact': None,\n",
       " 'status': 'success'}"
      ]
     },
     "execution_count": 13,
     "metadata": {},
     "output_type": "execute_result"
    }
   ],
   "source": [
    "output[\"messages\"][2].model_dump(mode=\"python\")"
   ]
  }
 ],
 "metadata": {
  "kernelspec": {
   "display_name": ".venv",
   "language": "python",
   "name": "python3"
  },
  "language_info": {
   "codemirror_mode": {
    "name": "ipython",
    "version": 3
   },
   "file_extension": ".py",
   "mimetype": "text/x-python",
   "name": "python",
   "nbconvert_exporter": "python",
   "pygments_lexer": "ipython3",
   "version": "3.12.8"
  }
 },
 "nbformat": 4,
 "nbformat_minor": 5
}
