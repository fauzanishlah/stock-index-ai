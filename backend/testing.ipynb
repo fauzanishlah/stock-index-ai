{
 "cells": [
  {
   "cell_type": "code",
   "execution_count": 1,
   "id": "f14627bc",
   "metadata": {},
   "outputs": [],
   "source": [
    "from langchain_google_genai import ChatGoogleGenerativeAI"
   ]
  },
  {
   "cell_type": "code",
   "execution_count": null,
   "id": "37c44c78",
   "metadata": {},
   "outputs": [],
   "source": [
    "ChatGoogleGenerativeAI(model=\"gemini-2.0-flash\")"
   ]
  }
 ],
 "metadata": {
  "kernelspec": {
   "display_name": ".venv",
   "language": "python",
   "name": "python3"
  },
  "language_info": {
   "codemirror_mode": {
    "name": "ipython",
    "version": 3
   },
   "file_extension": ".py",
   "mimetype": "text/x-python",
   "name": "python",
   "nbconvert_exporter": "python",
   "pygments_lexer": "ipython3",
   "version": "3.12.8"
  }
 },
 "nbformat": 4,
 "nbformat_minor": 5
}
